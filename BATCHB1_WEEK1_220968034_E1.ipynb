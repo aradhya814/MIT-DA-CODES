{
 "cells": [
  {
   "cell_type": "markdown",
   "id": "ecf8135b",
   "metadata": {},
   "source": [
    "# Exercise Question"
   ]
  },
  {
   "cell_type": "markdown",
   "id": "52e1fedf",
   "metadata": {},
   "source": [
    "Author name: Aradhya Goswami\n",
    "Class III BTECH DSE\n",
    "Section B Batch 1\n",
    "Week 1"
   ]
  },
  {
   "cell_type": "markdown",
   "id": "8c1a8d86",
   "metadata": {},
   "source": [
    "### Python program to find the average of 10 numbers using while loop"
   ]
  },
  {
   "cell_type": "code",
   "execution_count": 14,
   "id": "4fd77db8",
   "metadata": {},
   "outputs": [
    {
     "name": "stdout",
     "output_type": "stream",
     "text": [
      "Enter the numbers:1\n",
      "the average of the entered number is: 0.1\n",
      "Enter the numbers:2\n",
      "the average of the entered number is: 0.3\n",
      "Enter the numbers:3\n",
      "the average of the entered number is: 0.6\n",
      "Enter the numbers:4\n",
      "the average of the entered number is: 1.0\n",
      "Enter the numbers:5\n",
      "the average of the entered number is: 1.5\n",
      "Enter the numbers:6\n",
      "the average of the entered number is: 2.1\n",
      "Enter the numbers:7\n",
      "the average of the entered number is: 2.8\n",
      "Enter the numbers:8\n",
      "the average of the entered number is: 3.6\n",
      "Enter the numbers:9\n",
      "the average of the entered number is: 4.5\n",
      "Enter the numbers:10\n",
      "the average of the entered number is: 5.5\n"
     ]
    }
   ],
   "source": [
    "sum=0\n",
    "count=0\n",
    "while (count<10):\n",
    "    n=int(input(\"Enter the numbers:\"))\n",
    "    sum= sum + n\n",
    "    count=count+1\n",
    "    average= sum/10\n",
    "    print(\"the average of the entered number is:\",average)"
   ]
  },
  {
   "cell_type": "markdown",
   "id": "b4fb1f64",
   "metadata": {},
   "source": [
    "### Python program to find the geometric mean of n numbers"
   ]
  },
  {
   "cell_type": "code",
   "execution_count": 17,
   "id": "4b148bd0",
   "metadata": {},
   "outputs": [
    {
     "name": "stdout",
     "output_type": "stream",
     "text": [
      "The original list is : [6, 7, 3, 9, 10, 15]\n",
      "The geometric mean of list is : 7.443617568993922\n"
     ]
    }
   ],
   "source": [
    "import math\n",
    "n = [6, 7, 3, 9, 10, 15]\n",
    "print(\"The original list is : \" + str(n))\n",
    "temp = 1\n",
    "for i in range(0, len(test_list)) :\n",
    "    temp = temp * test_list[i]\n",
    "temp2 = (float)(math.pow(temp, (1 / len (n))))\n",
    "res = (float)(temp2)\n",
    "print(\"The geometric mean of list is : \" + str(res))\n"
   ]
  },
  {
   "cell_type": "markdown",
   "id": "27932365",
   "metadata": {},
   "source": [
    "### Python program to check whether the given integer is a prime number or not"
   ]
  },
  {
   "cell_type": "code",
   "execution_count": 8,
   "id": "b483282d",
   "metadata": {},
   "outputs": [
    {
     "name": "stdout",
     "output_type": "stream",
     "text": [
      "11 is a prime number\n"
     ]
    }
   ],
   "source": [
    "num=11\n",
    "if num > 1:\n",
    "    for i in range(2, int(num/2)+1):\n",
    "        if (num % i) == 0:\n",
    "            print(num, \"is not a prime number\")\n",
    "            break\n",
    "    else:\n",
    "          print(num, \"is a prime number\")\n",
    "else:\n",
    "    print(num, \"is not a prime number\")\n"
   ]
  },
  {
   "cell_type": "markdown",
   "id": "d6ec50ad",
   "metadata": {},
   "source": [
    "###  Python program to implement linear search and implement binary search"
   ]
  },
  {
   "cell_type": "code",
   "execution_count": 3,
   "id": "631af738",
   "metadata": {},
   "outputs": [
    {
     "name": "stdout",
     "output_type": "stream",
     "text": [
      "Program to implement linear search\n",
      "Enter the number of elements in the array1\n",
      "Enter your number2\n",
      "Enter the number to be searched2\n",
      "the item has been searched and found at the position  1\n"
     ]
    }
   ],
   "source": [
    "print(\"Program to implement linear search\")\n",
    "a=[]\n",
    "n=int(input(\"Enter the number of elements in the array\"))\n",
    "for i in range(0,n):\n",
    "    c=int(input(\"Enter your number\"))\n",
    "    a.append(c)\n",
    "d=int(input(\"Enter the number to be searched\"))\n",
    "for i in range(0,n):\n",
    "    if(a[i]==d):\n",
    "        flag=1\n",
    "        pos=i+1\n",
    "        break\n",
    "    else:\n",
    "        flag=0\n",
    "if(flag==1):\n",
    "        print(\"the item has been searched and found at the position \",pos)\n",
    "else:\n",
    "        print(\"item not found\")"
   ]
  },
  {
   "cell_type": "code",
   "execution_count": 4,
   "id": "5fbdb217",
   "metadata": {},
   "outputs": [
    {
     "name": "stdout",
     "output_type": "stream",
     "text": [
      "Program to implement binary search\n",
      "Enter the number of elements in the array4\n",
      "Enter your number1\n",
      "Enter your number2\n",
      "Enter your number3\n",
      "Enter your number4\n",
      "Enter number to be searched3\n",
      "The number has been searched and found at positon:  3\n"
     ]
    }
   ],
   "source": [
    "print(\"Program to implement binary search\")\n",
    "a=[]\n",
    "n=int(input(\"Enter the number of elements in the array\"))\n",
    "for i in range(0,n):\n",
    "    c=int(input(\"Enter your number\"))\n",
    "    a.append(c)\n",
    "d=int(input(\"Enter number to be searched\"))\n",
    "low=0\n",
    "high=n-1\n",
    "\n",
    "while(low<=high):\n",
    "    mid=(low+high)//2\n",
    "    if(d==a[mid]):\n",
    "        pos=mid+1\n",
    "        flag=1\n",
    "        break\n",
    "    if(d>a[mid]):\n",
    "        low=mid+1\n",
    "    else:\n",
    "        high=mid+1\n",
    "if(flag==1):\n",
    "        print(\"The number has been searched and found at positon: \",pos)\n",
    "else:\n",
    "    print(\"Item not found\")"
   ]
  },
  {
   "cell_type": "markdown",
   "id": "d19b29fb",
   "metadata": {},
   "source": [
    "### Python program to find the area of a triangle whose sides are given "
   ]
  },
  {
   "cell_type": "code",
   "execution_count": 18,
   "id": "b4e436a1",
   "metadata": {},
   "outputs": [
    {
     "name": "stdout",
     "output_type": "stream",
     "text": [
      "Enter the breadth of the triangle:3\n",
      "Enter the height of the triangle:4\n",
      "The area of the triangle is: 6.0\n"
     ]
    }
   ],
   "source": [
    "import math \n",
    "b=int(input(\"Enter the breadth of the triangle:\"))\n",
    "h=int(input(\"Enter the height of the triangle:\"))\n",
    "area= 0.5*b*h\n",
    "print(\"The area of the triangle is:\",area)\n",
    "    "
   ]
  },
  {
   "cell_type": "markdown",
   "id": "11ca425c",
   "metadata": {},
   "source": [
    "# Exercise"
   ]
  },
  {
   "cell_type": "markdown",
   "id": "5f11e7c0",
   "metadata": {},
   "source": [
    "###  A data frame with details of 10 students and columns as Roll Number, Name, Gender, Marks1, Marks2, Marks3\n"
   ]
  },
  {
   "cell_type": "code",
   "execution_count": 5,
   "id": "0db1c72b",
   "metadata": {},
   "outputs": [],
   "source": [
    "import pandas as pd\n"
   ]
  },
  {
   "cell_type": "code",
   "execution_count": 6,
   "id": "8bb43403",
   "metadata": {},
   "outputs": [
    {
     "name": "stdout",
     "output_type": "stream",
     "text": [
      "   Roll number Name Gender  Marks1  Marks2  Marks3\n",
      "0            1    a      m      12      12      12\n",
      "1            2    b      f      43      43      43\n",
      "2            3    c      m      16      16      16\n",
      "3            4    d      f      75      75      75\n",
      "4            5    e      m      62      62      62\n",
      "5            6    f      f      24      24      24\n",
      "6            7    g      m      16      16      16\n",
      "7            8    h      f      98      98      98\n",
      "8            9    i      m      79      79      79\n",
      "9           10    j      f      82      82      82\n"
     ]
    }
   ],
   "source": [
    "sample={\n",
    "    \"Roll number\":[1,2,3,4,5,6,7,8,9,10],\n",
    "    \"Name\":[\"a\",\"b\",\"c\",\"d\",\"e\",\"f\",\"g\",\"h\",\"i\",\"j\"],\n",
    "    \"Gender\":[\"m\",\"f\",\"m\",\"f\",\"m\",\"f\",\"m\",\"f\",\"m\",\"f\"],\n",
    "    \"Marks1\":[12,43,16,75,62,24,16,98,79,82],\n",
    "    \"Marks2\":[12,43,16,75,62,24,16,98,79,82],\n",
    "    \"Marks3\":[12,43,16,75,62,24,16,98,79,82],\n",
    "}\n",
    "df=pd.DataFrame(sample)\n",
    "print(df)"
   ]
  },
  {
   "cell_type": "code",
   "execution_count": 7,
   "id": "4242945e",
   "metadata": {},
   "outputs": [
    {
     "name": "stdout",
     "output_type": "stream",
     "text": [
      "0    12\n",
      "1    43\n",
      "2    16\n",
      "3    75\n",
      "4    62\n",
      "5    24\n",
      "6    16\n",
      "7    98\n",
      "8    79\n",
      "9    82\n",
      "Name: Marks1, dtype: int64\n"
     ]
    }
   ],
   "source": [
    "print(df.Marks1)"
   ]
  },
  {
   "cell_type": "markdown",
   "id": "203f6499",
   "metadata": {},
   "source": [
    "### Create a new column with total marks\n"
   ]
  },
  {
   "cell_type": "code",
   "execution_count": 8,
   "id": "1290756c",
   "metadata": {},
   "outputs": [
    {
     "name": "stdout",
     "output_type": "stream",
     "text": [
      "   Roll number Name Gender  Marks1  Marks2  Marks3  total\n",
      "0            1    a      m      12      12      12     36\n",
      "1            2    b      f      43      43      43    129\n",
      "2            3    c      m      16      16      16     48\n",
      "3            4    d      f      75      75      75    225\n",
      "4            5    e      m      62      62      62    186\n",
      "5            6    f      f      24      24      24     72\n",
      "6            7    g      m      16      16      16     48\n",
      "7            8    h      f      98      98      98    294\n",
      "8            9    i      m      79      79      79    237\n",
      "9           10    j      f      82      82      82    246\n"
     ]
    }
   ],
   "source": [
    "df[\"total\"]=df.Marks1+df.Marks2+df.Marks3\n",
    "print(df)"
   ]
  },
  {
   "cell_type": "markdown",
   "id": "62399a88",
   "metadata": {},
   "source": [
    "### Find the lowest marks in Marks1"
   ]
  },
  {
   "cell_type": "code",
   "execution_count": 9,
   "id": "fb214e32",
   "metadata": {},
   "outputs": [
    {
     "name": "stdout",
     "output_type": "stream",
     "text": [
      "lowest marks in marks1:  12\n"
     ]
    }
   ],
   "source": [
    "low= df.Marks1.min()\n",
    "print(\"lowest marks in marks1: \",low)"
   ]
  },
  {
   "cell_type": "markdown",
   "id": "3c9335f8",
   "metadata": {},
   "source": [
    "### Find the Highest marks in Marks2"
   ]
  },
  {
   "cell_type": "code",
   "execution_count": 10,
   "id": "b36de626",
   "metadata": {},
   "outputs": [
    {
     "name": "stdout",
     "output_type": "stream",
     "text": [
      "highest marks in marks1:  98\n"
     ]
    }
   ],
   "source": [
    "high= df.Marks2.max()\n",
    "print(\"highest marks in marks1: \",high)"
   ]
  },
  {
   "cell_type": "markdown",
   "id": "341651df",
   "metadata": {},
   "source": [
    "### Find the average marks in Marks3"
   ]
  },
  {
   "cell_type": "code",
   "execution_count": 11,
   "id": "386dbfce",
   "metadata": {},
   "outputs": [
    {
     "name": "stdout",
     "output_type": "stream",
     "text": [
      "the average marks in marks3:  50.7\n"
     ]
    }
   ],
   "source": [
    "avg= df.Marks3.mean()\n",
    "print(\"the average marks in marks3: \",avg)"
   ]
  },
  {
   "cell_type": "markdown",
   "id": "d67f06b8",
   "metadata": {},
   "source": [
    "### Find student name with highest average"
   ]
  },
  {
   "cell_type": "code",
   "execution_count": 12,
   "id": "e7cc2ce0",
   "metadata": {},
   "outputs": [
    {
     "data": {
      "text/plain": [
       "'h'"
      ]
     },
     "execution_count": 12,
     "metadata": {},
     "output_type": "execute_result"
    }
   ],
   "source": [
    "list(df[df[\"total\"]==df[\"total\"].max()].get(\"Name\"))[0]"
   ]
  },
  {
   "cell_type": "markdown",
   "id": "a3b2c7ae",
   "metadata": {},
   "source": [
    "### Find how many students failed in Marks2 (<40)"
   ]
  },
  {
   "cell_type": "code",
   "execution_count": 14,
   "id": "875e8ccc",
   "metadata": {},
   "outputs": [
    {
     "data": {
      "text/plain": [
       "4"
      ]
     },
     "execution_count": 14,
     "metadata": {},
     "output_type": "execute_result"
    }
   ],
   "source": [
    "len(df[df['Marks2']<40])"
   ]
  },
  {
   "cell_type": "code",
   "execution_count": null,
   "id": "b08d0e0a",
   "metadata": {},
   "outputs": [],
   "source": []
  }
 ],
 "metadata": {
  "kernelspec": {
   "display_name": "Python 3 (ipykernel)",
   "language": "python",
   "name": "python3"
  },
  "language_info": {
   "codemirror_mode": {
    "name": "ipython",
    "version": 3
   },
   "file_extension": ".py",
   "mimetype": "text/x-python",
   "name": "python",
   "nbconvert_exporter": "python",
   "pygments_lexer": "ipython3",
   "version": "3.9.13"
  }
 },
 "nbformat": 4,
 "nbformat_minor": 5
}
